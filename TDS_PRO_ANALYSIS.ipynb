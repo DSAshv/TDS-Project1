{
  "nbformat": 4,
  "nbformat_minor": 0,
  "metadata": {
    "colab": {
      "provenance": []
    },
    "kernelspec": {
      "name": "python3",
      "display_name": "Python 3"
    },
    "language_info": {
      "name": "python"
    }
  },
  "cells": [
    {
      "cell_type": "code",
      "source": [
        "\n",
        "repositories_df = pd.read_csv('repositories.csv')\n",
        "\n",
        "print(repositories_df.head())\n",
        "\n",
        "repositories_df['has_projects'] = repositories_df['has_projects'].replace({True: 'true', False: 'false'})\n",
        "repositories_df['has_wiki'] = repositories_df['has_wiki'].replace({True: 'true', False: 'false'})\n",
        "\n",
        "repositories_df.to_csv('repositories.csv', index=False)\n",
        "\n",
        "print(repositories_df.head())\n",
        "\n",
        "print(\"Updated CSV file saved successfully.\")\n",
        "\n",
        "users_df = pd.read_csv('users.csv')\n",
        "\n",
        "print(users_df.head())\n",
        "\n",
        "users_df['hireable'] = users_df['hireable'].replace({True: 'true', False: 'false'})\n",
        "\n",
        "users_df.to_csv('users.csv', index=False)\n",
        "\n",
        "print(users_df.head())\n",
        "\n",
        "\n",
        "print(\"Updated CSV file saved successfully.\")"
      ],
      "metadata": {
        "id": "Z2BhvdU5lrsP"
      },
      "execution_count": null,
      "outputs": []
    },
    {
      "cell_type": "code",
      "source": [
        "import pandas as pd\n",
        "\n",
        "users_df = pd.read_csv('users.csv')\n",
        "\n",
        "users_df['company'] = users_df['company'].str.strip()\n",
        "users_df['company'] = users_df['company'].str.lstrip('@')\n",
        "users_df['company'] = users_df['company'].str.upper()\n",
        "\n",
        "users_df.to_csv('users.csv', index=False)"
      ],
      "metadata": {
        "colab": {
          "base_uri": "https://localhost:8080/"
        },
        "id": "cuaQL_mZrBU1",
        "outputId": "cb813650-315e-4b4a-fb3d-dcb5a851a8e6"
      },
      "execution_count": 16,
      "outputs": [
        {
          "output_type": "stream",
          "name": "stdout",
          "text": [
            "Company names cleaned and saved to users.csv.\n"
          ]
        }
      ]
    },
    {
      "cell_type": "code",
      "source": [
        "#Q1\n",
        "import pandas as pd\n",
        "users_df = pd.read_csv('users.csv')\n",
        "\n",
        "top_users = users_df.sort_values(by='followers', ascending=False).head(5)\n",
        "\n",
        "top_logins = top_users['login'].tolist()\n",
        "result = ','.join(top_logins)\n",
        "\n",
        "print(result)\n"
      ],
      "metadata": {
        "colab": {
          "base_uri": "https://localhost:8080/"
        },
        "id": "X7CkS3Zam87L",
        "outputId": "ffdf4f4c-2761-4474-b487-b27a54e3adfb"
      },
      "execution_count": 17,
      "outputs": [
        {
          "output_type": "stream",
          "name": "stdout",
          "text": [
            "iam-veeramalla, in28minutes, stacksimplify, thenaveensaggam, MadhavBahl\n"
          ]
        }
      ]
    },
    {
      "cell_type": "code",
      "source": [
        "#Q2\n",
        "import pandas as pd\n",
        "users_df = pd.read_csv('users.csv')\n",
        "\n",
        "users_df['created_at'] = pd.to_datetime(users_df['created_at'])\n",
        "\n",
        "earliest_users = users_df.sort_values(by='created_at').head(5)\n",
        "\n",
        "earliest_logins = earliest_users['login'].tolist()\n",
        "result = ','.join(earliest_logins)\n",
        "\n",
        "print(result)\n"
      ],
      "metadata": {
        "colab": {
          "base_uri": "https://localhost:8080/"
        },
        "id": "jVT8tVpipe8W",
        "outputId": "fcaedc62-17ff-4815-a48c-f555a52c191f"
      },
      "execution_count": 18,
      "outputs": [
        {
          "output_type": "stream",
          "name": "stdout",
          "text": [
            "shabda, sitaramc, bagwanpankaj, srikanthlogic, kulbirsaini\n"
          ]
        }
      ]
    },
    {
      "cell_type": "code",
      "source": [
        "#Q3\n",
        "import pandas as pd\n",
        "\n",
        "repositories_df = pd.read_csv('repositories.csv')\n",
        "repositories_df = repositories_df[repositories_df['license_name'].notna()]\n",
        "\n",
        "license_counts = repositories_df['license_name'].value_counts()\n",
        "\n",
        "top_licenses = license_counts.head(3).index.tolist()\n",
        "\n",
        "result = ', '.join(top_licenses)\n",
        "\n",
        "print(result)\n"
      ],
      "metadata": {
        "colab": {
          "base_uri": "https://localhost:8080/"
        },
        "id": "0v3-8fq7p5qY",
        "outputId": "e35cc5d9-f5b7-46d0-8929-bcf907ddbc8e"
      },
      "execution_count": 19,
      "outputs": [
        {
          "output_type": "stream",
          "name": "stdout",
          "text": [
            "mit, apache-2.0, other\n"
          ]
        }
      ]
    },
    {
      "cell_type": "code",
      "source": [
        "#Q4\n",
        "import pandas as pd\n",
        "\n",
        "users_df = pd.read_csv('users.csv')\n",
        "\n",
        "company_counts = users_df['company'].value_counts()\n",
        "\n",
        "most_common_company = company_counts.idxmax()\n",
        "most_common_count = company_counts.max()\n",
        "\n",
        "print(f\"The majority of developers work at: {most_common_company} with {most_common_count} developers.\")\n"
      ],
      "metadata": {
        "colab": {
          "base_uri": "https://localhost:8080/"
        },
        "id": "zPFLL9pdrI7h",
        "outputId": "11dccfa7-ee9c-40bd-801b-8a5f59919237"
      },
      "execution_count": 20,
      "outputs": [
        {
          "output_type": "stream",
          "name": "stdout",
          "text": [
            "The majority of developers work at: MICROSOFT with 17 developers.\n"
          ]
        }
      ]
    },
    {
      "cell_type": "code",
      "source": [
        "#Q5\n",
        "import pandas as pd\n",
        "\n",
        "repositories_df = pd.read_csv('repositories.csv')\n",
        "\n",
        "language_counts = repositories_df['language'].value_counts()\n",
        "\n",
        "most_popular_language = language_counts.idxmax()\n",
        "most_popular_count = language_counts.max()\n",
        "\n",
        "print(f\"The most popular programming language is: {most_popular_language} with {most_popular_count} repositories.\")\n"
      ],
      "metadata": {
        "colab": {
          "base_uri": "https://localhost:8080/"
        },
        "id": "tUbmeG3KrTqI",
        "outputId": "2233d35c-6f5a-4a5e-bb76-a97d1db6b97a"
      },
      "execution_count": 21,
      "outputs": [
        {
          "output_type": "stream",
          "name": "stdout",
          "text": [
            "The most popular programming language is: JavaScript with 5620 repositories.\n"
          ]
        }
      ]
    },
    {
      "cell_type": "code",
      "source": [
        "#Q6\n",
        "import pandas as pd\n",
        "\n",
        "users_df = pd.read_csv('users.csv')\n",
        "repositories_df = pd.read_csv('repositories.csv')\n",
        "\n",
        "users_df['created_at'] = pd.to_datetime(users_df['created_at'])\n",
        "recent_users = users_df[users_df['created_at'] > '2020-01-01']\n",
        "\n",
        "recent_user_logins = recent_users['login'].tolist()\n",
        "\n",
        "recent_repositories = repositories_df[repositories_df['login'].isin(recent_user_logins)]\n",
        "\n",
        "\n",
        "language_counts = recent_repositories['language'].value_counts()\n",
        "\n",
        "second_most_popular_language = language_counts.nlargest(2).index[1]\n",
        "second_most_popular_count = language_counts.nlargest(2).values[1]\n",
        "\n",
        "print(f\"{second_most_popular_language} \")\n"
      ],
      "metadata": {
        "colab": {
          "base_uri": "https://localhost:8080/"
        },
        "id": "7JUqfwgare6t",
        "outputId": "2c6f6d12-cf03-4a6c-96bb-3e9becb2f3de"
      },
      "execution_count": 22,
      "outputs": [
        {
          "output_type": "stream",
          "name": "stdout",
          "text": [
            "The second most popular programming language among users who joined after 2020 is: HTML with 779 repositories.\n"
          ]
        }
      ]
    },
    {
      "cell_type": "code",
      "source": [
        "#Q7\n",
        "import pandas as pd\n",
        "\n",
        "repositories_df = pd.read_csv('repositories.csv')\n",
        "average_stars = repositories_df.groupby('language')['stargazers_count'].mean()\n",
        "\n",
        "highest_average_language = average_stars.idxmax()\n",
        "highest_average_value = average_stars.max()\n",
        "\n",
        "print(f\"{highest_average_language}\")\n"
      ],
      "metadata": {
        "colab": {
          "base_uri": "https://localhost:8080/"
        },
        "id": "aowu8SiZrp_P",
        "outputId": "2349210b-06c3-4013-a16d-daa81850f1a6"
      },
      "execution_count": 23,
      "outputs": [
        {
          "output_type": "stream",
          "name": "stdout",
          "text": [
            "The programming language with the highest average number of stars per repository is: Perl with an average of 204.83 stars.\n"
          ]
        }
      ]
    },
    {
      "cell_type": "code",
      "source": [
        "#Q8\n",
        "import pandas as pd\n",
        "\n",
        "users_df = pd.read_csv('users.csv')\n",
        "\n",
        "users_df['leader_strength'] = users_df['followers'] / (1 + users_df['following'])\n",
        "\n",
        "top_leaders = users_df.sort_values(by='leader_strength', ascending=False).head(5)\n",
        "\n",
        "top_logins = top_leaders['login'].tolist()\n",
        "result = ', '.join(top_logins)\n",
        "\n",
        "print(result)\n"
      ],
      "metadata": {
        "colab": {
          "base_uri": "https://localhost:8080/"
        },
        "id": "Oy6f8ZBcr4xS",
        "outputId": "b4a2c807-d4b3-4c8a-b743-12a94a1f42dc"
      },
      "execution_count": 24,
      "outputs": [
        {
          "output_type": "stream",
          "name": "stdout",
          "text": [
            "in28minutes, iam-veeramalla, stacksimplify, ashokitschool, thenaveensaggam\n"
          ]
        }
      ]
    },
    {
      "cell_type": "code",
      "source": [
        "#Q9\n",
        "import pandas as pd\n",
        "\n",
        "users_df = pd.read_csv('users.csv')\n",
        "\n",
        "correlation = users_df['followers'].corr(users_df['public_repos'])\n",
        "\n",
        "print(f\"{correlation:.3f}\")\n"
      ],
      "metadata": {
        "colab": {
          "base_uri": "https://localhost:8080/"
        },
        "id": "b17bFXSwsSsP",
        "outputId": "e76a2fc2-1954-4f96-8d64-11c77eeb0f98"
      },
      "execution_count": 25,
      "outputs": [
        {
          "output_type": "stream",
          "name": "stdout",
          "text": [
            "The correlation between the number of followers and the number of public repositories is: 0.006\n"
          ]
        }
      ]
    },
    {
      "cell_type": "code",
      "source": [
        "#Q10\n",
        "import pandas as pd\n",
        "import statsmodels.api as sm\n",
        "\n",
        "users_df = pd.read_csv('users.csv')\n",
        "\n",
        "X = users_df['public_repos']\n",
        "Y = users_df['followers']\n",
        "\n",
        "X = sm.add_constant(X)\n",
        "\n",
        "model = sm.OLS(Y, X).fit()\n",
        "\n",
        "summary = model.summary()\n",
        "\n",
        "additional_followers_per_repo = model.params['public_repos']\n",
        "\n",
        "print(f\"{additional_followers_per_repo:.3f}\")\n"
      ],
      "metadata": {
        "colab": {
          "base_uri": "https://localhost:8080/"
        },
        "id": "1kT3YZzPsoBw",
        "outputId": "a2f1a6dd-a179-4295-a5ef-e6d9df00d3fe"
      },
      "execution_count": 26,
      "outputs": [
        {
          "output_type": "stream",
          "name": "stdout",
          "text": [
            "Regression Results:\n",
            "                            OLS Regression Results                            \n",
            "==============================================================================\n",
            "Dep. Variable:              followers   R-squared:                       0.000\n",
            "Model:                            OLS   Adj. R-squared:                 -0.002\n",
            "Method:                 Least Squares   F-statistic:                   0.02063\n",
            "Date:                Thu, 31 Oct 2024   Prob (F-statistic):              0.886\n",
            "Time:                        16:58:10   Log-Likelihood:                -4196.4\n",
            "No. Observations:                 505   AIC:                             8397.\n",
            "Df Residuals:                     503   BIC:                             8405.\n",
            "Df Model:                           1                                         \n",
            "Covariance Type:            nonrobust                                         \n",
            "================================================================================\n",
            "                   coef    std err          t      P>|t|      [0.025      0.975]\n",
            "--------------------------------------------------------------------------------\n",
            "const          201.1048     56.547      3.556      0.000      90.007     312.203\n",
            "public_repos     0.0716      0.498      0.144      0.886      -0.907       1.051\n",
            "==============================================================================\n",
            "Omnibus:                     1025.014   Durbin-Watson:                   0.265\n",
            "Prob(Omnibus):                  0.000   Jarque-Bera (JB):          1070396.308\n",
            "Skew:                          14.649   Prob(JB):                         0.00\n",
            "Kurtosis:                     226.634   Cond. No.                         146.\n",
            "==============================================================================\n",
            "\n",
            "Notes:\n",
            "[1] Standard Errors assume that the covariance matrix of the errors is correctly specified.\n",
            "Estimated additional followers per additional public repository: 0.072\n"
          ]
        }
      ]
    },
    {
      "cell_type": "code",
      "source": [
        "#Q11\n",
        "import pandas as pd\n",
        "\n",
        "repositories_df = pd.read_csv('repositories.csv')\n",
        "\n",
        "correlation = repositories_df['has_projects'].astype(int).corr(repositories_df['has_wiki'].astype(int))\n",
        "\n",
        "print(f\"{correlation:.3f}\")\n"
      ],
      "metadata": {
        "colab": {
          "base_uri": "https://localhost:8080/"
        },
        "id": "2_QxL3kys-_z",
        "outputId": "2f9c69fc-bfce-4e4e-bdcc-99f3a01832c6"
      },
      "execution_count": 27,
      "outputs": [
        {
          "output_type": "stream",
          "name": "stdout",
          "text": [
            "The correlation between having projects enabled and having a wiki enabled is: 0.172\n"
          ]
        }
      ]
    },
    {
      "cell_type": "code",
      "source": [
        "#Q12\n",
        "import pandas as pd\n",
        "\n",
        "users_df = pd.read_csv('users.csv')\n",
        "\n",
        "hireable_users = users_df[users_df['hireable'] == True]\n",
        "non_hireable_users = users_df[users_df['hireable'].isna() | (users_df['hireable'] == False)]\n",
        "\n",
        "average_hireable_following = hireable_users['following'].mean()\n",
        "average_non_hireable_following = non_hireable_users['following'].mean()\n",
        "\n",
        "difference = average_hireable_following - average_non_hireable_following\n",
        "\n",
        "print(f'{difference:.3f}')\n"
      ],
      "metadata": {
        "colab": {
          "base_uri": "https://localhost:8080/"
        },
        "id": "v0D_j97ouhM_",
        "outputId": "37692571-68dc-4fc1-c06b-73dfdc1c5aa9"
      },
      "execution_count": 28,
      "outputs": [
        {
          "output_type": "stream",
          "name": "stdout",
          "text": [
            "Difference in average following (hireable - non-hireable): 33.422\n"
          ]
        }
      ]
    },
    {
      "cell_type": "code",
      "source": [
        "import pandas as pd\n",
        "import statsmodels.api as sm\n",
        "\n",
        "users_df = pd.read_csv('users.csv')\n",
        "\n",
        "users_with_bios = users_df[users_df['bio'].notna()]\n",
        "\n",
        "users_with_bios['bio_word_count'] = users_with_bios['bio'].apply(lambda x: len(x.split()))\n",
        "\n",
        "X = users_with_bios['bio_word_count']\n",
        "y = users_with_bios['followers']\n",
        "\n",
        "X = sm.add_constant(X)\n",
        "\n",
        "model = sm.OLS(y, X).fit()\n",
        "slope = model.params['bio_word_count']\n",
        "\n",
        "print(f'Regression slope of followers on bio word count: {slope:.3f}')\n"
      ],
      "metadata": {
        "colab": {
          "base_uri": "https://localhost:8080/"
        },
        "id": "t86gGTj6uhLn",
        "outputId": "8008bf4d-2d9d-46d1-bdcf-0b22c30c2a49"
      },
      "execution_count": 29,
      "outputs": [
        {
          "output_type": "stream",
          "name": "stdout",
          "text": [
            "Regression slope of followers on bio word count: 8.400\n"
          ]
        },
        {
          "output_type": "stream",
          "name": "stderr",
          "text": [
            "<ipython-input-29-9e3186dc9c05>:11: SettingWithCopyWarning: \n",
            "A value is trying to be set on a copy of a slice from a DataFrame.\n",
            "Try using .loc[row_indexer,col_indexer] = value instead\n",
            "\n",
            "See the caveats in the documentation: https://pandas.pydata.org/pandas-docs/stable/user_guide/indexing.html#returning-a-view-versus-a-copy\n",
            "  users_with_bios['bio_word_count'] = users_with_bios['bio'].apply(lambda x: len(x.split()))\n"
          ]
        }
      ]
    },
    {
      "cell_type": "code",
      "source": [
        "#Q14\n",
        "import pandas as pd\n",
        "\n",
        "repos_df = pd.read_csv('repositories.csv')\n",
        "\n",
        "repos_df['created_at'] = pd.to_datetime(repos_df['created_at'])\n",
        "\n",
        "weekend_repos = repos_df[repos_df['created_at'].dt.dayofweek.isin([5, 6])]\n",
        "\n",
        "top_users = weekend_repos['login'].value_counts().head(5)\n",
        "\n",
        "top_users_logins = ', '.join(top_users.index)\n",
        "\n",
        "print(f'{top_users_logins}')\n"
      ],
      "metadata": {
        "colab": {
          "base_uri": "https://localhost:8080/"
        },
        "id": "69dBDEpH3DXl",
        "outputId": "28dec92c-a507-4b81-a90e-fcbcb2f14d92"
      },
      "execution_count": 30,
      "outputs": [
        {
          "output_type": "stream",
          "name": "stdout",
          "text": [
            "Top 5 users who created the most repositories on weekends: hemanth22, anjijava16, wahidKhan74, elevenpassin, narasimhavuppala\n"
          ]
        }
      ]
    },
    {
      "cell_type": "code",
      "source": [
        "#Q15\n",
        "import pandas as pd\n",
        "\n",
        "users_df = pd.read_csv('users.csv')\n",
        "\n",
        "total_users = len(users_df)\n",
        "\n",
        "hireable_users = users_df[users_df['hireable'] == True]\n",
        "non_hireable_users = users_df[users_df['hireable'].isna() | (users_df['hireable'] == False)]\n",
        "\n",
        "fraction_hireable_with_email = hireable_users['email'].notna().mean()\n",
        "fraction_non_hireable_with_email = non_hireable_users['email'].notna().mean()\n",
        "\n",
        "difference = fraction_hireable_with_email - fraction_non_hireable_with_email\n",
        "print(f'Difference in fraction of users with email: {difference:.3f}')\n"
      ],
      "metadata": {
        "colab": {
          "base_uri": "https://localhost:8080/"
        },
        "id": "ozqOj5bd3DWQ",
        "outputId": "6ce5236f-6c0a-4c19-c551-973d66a1338d"
      },
      "execution_count": 31,
      "outputs": [
        {
          "output_type": "stream",
          "name": "stdout",
          "text": [
            "Difference in fraction of users with email: 0.259\n"
          ]
        }
      ]
    },
    {
      "cell_type": "code",
      "source": [
        "#Q16\n",
        "import pandas as pd\n",
        "\n",
        "users_df = pd.read_csv('users.csv')\n",
        "\n",
        "valid_users = users_df[users_df['name'].notna()]\n",
        "\n",
        "valid_users['surname'] = valid_users['name'].str.strip().str.split().str[-1]\n",
        "\n",
        "surname_counts = valid_users['surname'].value_counts()\n",
        "\n",
        "max_count = surname_counts.max()\n",
        "most_common_surnames = surname_counts[surname_counts == max_count].index.tolist()\n",
        "\n",
        "most_common_surnames.sort()\n",
        "\n",
        "number_of_users = max_count\n",
        "\n",
        "print(','.join(most_common_surnames))\n"
      ],
      "metadata": {
        "colab": {
          "base_uri": "https://localhost:8080/"
        },
        "id": "6MCRKTWM3eGI",
        "outputId": "acc48cc2-1383-491c-b122-112ed780260a"
      },
      "execution_count": 32,
      "outputs": [
        {
          "output_type": "stream",
          "name": "stdout",
          "text": [
            "Most common surname(s): Kumar\n",
            "Number of users with the most common surname: 12\n"
          ]
        },
        {
          "output_type": "stream",
          "name": "stderr",
          "text": [
            "<ipython-input-32-dc0f22873520>:11: SettingWithCopyWarning: \n",
            "A value is trying to be set on a copy of a slice from a DataFrame.\n",
            "Try using .loc[row_indexer,col_indexer] = value instead\n",
            "\n",
            "See the caveats in the documentation: https://pandas.pydata.org/pandas-docs/stable/user_guide/indexing.html#returning-a-view-versus-a-copy\n",
            "  valid_users['surname'] = valid_users['name'].str.strip().str.split().str[-1]\n"
          ]
        }
      ]
    },
    {
      "cell_type": "code",
      "source": [],
      "metadata": {
        "id": "ICA9p7MoNx23"
      },
      "execution_count": 32,
      "outputs": []
    },
    {
      "cell_type": "code",
      "source": [],
      "metadata": {
        "colab": {
          "base_uri": "https://localhost:8080/"
        },
        "id": "TcHTWbzuJVDX",
        "outputId": "12f22fcf-660e-4453-ce59-49d2624ce0ca"
      },
      "execution_count": 34,
      "outputs": [
        {
          "output_type": "stream",
          "name": "stdout",
          "text": [
            "             login                 name                   company  \\\n",
            "0   iam-veeramalla  Abhishek Veeramalla                   RED HAT   \n",
            "1      in28minutes                  NaN               IN28MINUTES   \n",
            "2    stacksimplify        STACKSIMPLIFY             STACKSIMPLIFY   \n",
            "3  thenaveensaggam        NAVEEN SAGGAM  HTTPS://WWW.UIBRAINS.COM   \n",
            "4       MadhavBahl          MADHAV BAHL                 MICROSOFT   \n",
            "\n",
            "           location                      email hireable  \\\n",
            "0  Hyderabad, India                        NaN      NaN   \n",
            "1  Hyderabad, India      in28minutes@gmail.com     True   \n",
            "2         Hyderabad    stacksimplify@gmail.com      NaN   \n",
            "3         Hyderabad  thenaveensaggam@gmail.com      NaN   \n",
            "4  Hyderabad, India     madhavbahl10@gmail.com     True   \n",
            "\n",
            "                                                 bio  public_repos  followers  \\\n",
            "0  Keep learning, sharing and growing || Principa...            45      16266   \n",
            "1  Helping 1 Million Learners learn Programming, ...           102      14371   \n",
            "2  Best Selling Instructor on Udemy - 2,10,000 St...            47       3236   \n",
            "3  Founder: UiBrains Technologies\\r\\nEnthusiastic...            43       2164   \n",
            "4  The Lean Programmer | Software Engineer @Micro...           128       1590   \n",
            "\n",
            "   following            created_at  \n",
            "0          1  2018-09-19T05:58:52Z  \n",
            "1          0  2015-09-05T14:09:58Z  \n",
            "2          0  2019-03-07T11:25:23Z  \n",
            "3          1  2017-02-18T18:44:26Z  \n",
            "4          1  2017-03-04T06:16:43Z  \n",
            "             login                 name                   company  \\\n",
            "0   iam-veeramalla  Abhishek Veeramalla                   RED HAT   \n",
            "1      in28minutes                  NaN               IN28MINUTES   \n",
            "2    stacksimplify        STACKSIMPLIFY             STACKSIMPLIFY   \n",
            "3  thenaveensaggam        NAVEEN SAGGAM  HTTPS://WWW.UIBRAINS.COM   \n",
            "4       MadhavBahl          MADHAV BAHL                 MICROSOFT   \n",
            "\n",
            "           location                      email hireable  \\\n",
            "0  Hyderabad, India                        NaN      NaN   \n",
            "1  Hyderabad, India      in28minutes@gmail.com     true   \n",
            "2         Hyderabad    stacksimplify@gmail.com      NaN   \n",
            "3         Hyderabad  thenaveensaggam@gmail.com      NaN   \n",
            "4  Hyderabad, India     madhavbahl10@gmail.com     true   \n",
            "\n",
            "                                                 bio  public_repos  followers  \\\n",
            "0  Keep learning, sharing and growing || Principa...            45      16266   \n",
            "1  Helping 1 Million Learners learn Programming, ...           102      14371   \n",
            "2  Best Selling Instructor on Udemy - 2,10,000 St...            47       3236   \n",
            "3  Founder: UiBrains Technologies\\r\\nEnthusiastic...            43       2164   \n",
            "4  The Lean Programmer | Software Engineer @Micro...           128       1590   \n",
            "\n",
            "   following            created_at  \n",
            "0          1  2018-09-19T05:58:52Z  \n",
            "1          0  2015-09-05T14:09:58Z  \n",
            "2          0  2019-03-07T11:25:23Z  \n",
            "3          1  2017-02-18T18:44:26Z  \n",
            "4          1  2017-03-04T06:16:43Z  \n",
            "Updated CSV file saved successfully.\n"
          ]
        }
      ]
    }
  ]
}