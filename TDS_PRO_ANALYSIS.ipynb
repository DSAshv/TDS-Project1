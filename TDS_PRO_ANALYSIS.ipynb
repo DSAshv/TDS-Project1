{
  "nbformat": 4,
  "nbformat_minor": 0,
  "metadata": {
    "colab": {
      "provenance": []
    },
    "kernelspec": {
      "name": "python3",
      "display_name": "Python 3"
    },
    "language_info": {
      "name": "python"
    }
  },
  "cells": [
    {
      "cell_type": "code",
      "source": [
        "\n",
        "repositories_df = pd.read_csv('repositories.csv')\n",
        "\n",
        "print(repositories_df.head())\n",
        "\n",
        "repositories_df['has_projects'] = repositories_df['has_projects'].replace({True: 'true', False: 'false'})\n",
        "repositories_df['has_wiki'] = repositories_df['has_wiki'].replace({True: 'true', False: 'false'})\n",
        "\n",
        "repositories_df.to_csv('repositories.csv', index=False)\n",
        "\n",
        "print(repositories_df.head())\n",
        "\n",
        "print(\"Updated CSV file saved successfully.\")\n",
        "\n",
        "users_df = pd.read_csv('users.csv')\n",
        "\n",
        "print(users_df.head())\n",
        "\n",
        "users_df['hireable'] = users_df['hireable'].replace({True: 'true', False: 'false'})\n",
        "\n",
        "users_df.to_csv('users.csv', index=False)\n",
        "\n",
        "print(users_df.head())\n",
        "\n",
        "\n",
        "print(\"Updated CSV file saved successfully.\")"
      ],
      "metadata": {
        "colab": {
          "base_uri": "https://localhost:8080/"
        },
        "id": "Z2BhvdU5lrsP",
        "outputId": "637a9e9d-c690-411a-999a-a509206833df"
      },
      "execution_count": 35,
      "outputs": [
        {
          "output_type": "stream",
          "name": "stdout",
          "text": [
            "             login                                full_name  \\\n",
            "0  thenaveensaggam           thenaveensaggam/next-dashboard   \n",
            "1  thenaveensaggam       thenaveensaggam/Bootstrap_4_Course   \n",
            "2  thenaveensaggam            thenaveensaggam/HTML_5_Course   \n",
            "3  thenaveensaggam  thenaveensaggam/contact-mgr-server-mern   \n",
            "4  thenaveensaggam        thenaveensaggam/react-contact-mgr   \n",
            "\n",
            "             created_at  stargazers_count  watchers_count    language  \\\n",
            "0  2024-09-24T15:43:52Z                 0               0  TypeScript   \n",
            "1  2019-10-23T10:05:23Z                 9               9        HTML   \n",
            "2  2019-10-23T08:10:18Z                19              19        HTML   \n",
            "3  2023-04-29T04:55:57Z                 0               0  TypeScript   \n",
            "4  2023-04-29T05:07:46Z                 2               2        HTML   \n",
            "\n",
            "   has_projects  has_wiki license_name  \n",
            "0          True      True          NaN  \n",
            "1          True      True          NaN  \n",
            "2          True      True          NaN  \n",
            "3          True      True          NaN  \n",
            "4          True      True          NaN  \n",
            "             login                                full_name  \\\n",
            "0  thenaveensaggam           thenaveensaggam/next-dashboard   \n",
            "1  thenaveensaggam       thenaveensaggam/Bootstrap_4_Course   \n",
            "2  thenaveensaggam            thenaveensaggam/HTML_5_Course   \n",
            "3  thenaveensaggam  thenaveensaggam/contact-mgr-server-mern   \n",
            "4  thenaveensaggam        thenaveensaggam/react-contact-mgr   \n",
            "\n",
            "             created_at  stargazers_count  watchers_count    language  \\\n",
            "0  2024-09-24T15:43:52Z                 0               0  TypeScript   \n",
            "1  2019-10-23T10:05:23Z                 9               9        HTML   \n",
            "2  2019-10-23T08:10:18Z                19              19        HTML   \n",
            "3  2023-04-29T04:55:57Z                 0               0  TypeScript   \n",
            "4  2023-04-29T05:07:46Z                 2               2        HTML   \n",
            "\n",
            "  has_projects has_wiki license_name  \n",
            "0         true     true          NaN  \n",
            "1         true     true          NaN  \n",
            "2         true     true          NaN  \n",
            "3         true     true          NaN  \n",
            "4         true     true          NaN  \n",
            "Updated CSV file saved successfully.\n",
            "             login                 name                   company  \\\n",
            "0   iam-veeramalla  Abhishek Veeramalla                   RED HAT   \n",
            "1      in28minutes                  NaN               IN28MINUTES   \n",
            "2    stacksimplify        STACKSIMPLIFY             STACKSIMPLIFY   \n",
            "3  thenaveensaggam        NAVEEN SAGGAM  HTTPS://WWW.UIBRAINS.COM   \n",
            "4       MadhavBahl          MADHAV BAHL                 MICROSOFT   \n",
            "\n",
            "           location                      email hireable  \\\n",
            "0  Hyderabad, India                        NaN      NaN   \n",
            "1  Hyderabad, India      in28minutes@gmail.com     True   \n",
            "2         Hyderabad    stacksimplify@gmail.com      NaN   \n",
            "3         Hyderabad  thenaveensaggam@gmail.com      NaN   \n",
            "4  Hyderabad, India     madhavbahl10@gmail.com     True   \n",
            "\n",
            "                                                 bio  public_repos  followers  \\\n",
            "0  Keep learning, sharing and growing || Principa...            45      16266   \n",
            "1  Helping 1 Million Learners learn Programming, ...           102      14371   \n",
            "2  Best Selling Instructor on Udemy - 2,10,000 St...            47       3236   \n",
            "3  Founder: UiBrains Technologies\\r\\nEnthusiastic...            43       2164   \n",
            "4  The Lean Programmer | Software Engineer @Micro...           128       1590   \n",
            "\n",
            "   following            created_at  \n",
            "0          1  2018-09-19T05:58:52Z  \n",
            "1          0  2015-09-05T14:09:58Z  \n",
            "2          0  2019-03-07T11:25:23Z  \n",
            "3          1  2017-02-18T18:44:26Z  \n",
            "4          1  2017-03-04T06:16:43Z  \n",
            "             login                 name                   company  \\\n",
            "0   iam-veeramalla  Abhishek Veeramalla                   RED HAT   \n",
            "1      in28minutes                  NaN               IN28MINUTES   \n",
            "2    stacksimplify        STACKSIMPLIFY             STACKSIMPLIFY   \n",
            "3  thenaveensaggam        NAVEEN SAGGAM  HTTPS://WWW.UIBRAINS.COM   \n",
            "4       MadhavBahl          MADHAV BAHL                 MICROSOFT   \n",
            "\n",
            "           location                      email hireable  \\\n",
            "0  Hyderabad, India                        NaN      NaN   \n",
            "1  Hyderabad, India      in28minutes@gmail.com     true   \n",
            "2         Hyderabad    stacksimplify@gmail.com      NaN   \n",
            "3         Hyderabad  thenaveensaggam@gmail.com      NaN   \n",
            "4  Hyderabad, India     madhavbahl10@gmail.com     true   \n",
            "\n",
            "                                                 bio  public_repos  followers  \\\n",
            "0  Keep learning, sharing and growing || Principa...            45      16266   \n",
            "1  Helping 1 Million Learners learn Programming, ...           102      14371   \n",
            "2  Best Selling Instructor on Udemy - 2,10,000 St...            47       3236   \n",
            "3  Founder: UiBrains Technologies\\r\\nEnthusiastic...            43       2164   \n",
            "4  The Lean Programmer | Software Engineer @Micro...           128       1590   \n",
            "\n",
            "   following            created_at  \n",
            "0          1  2018-09-19T05:58:52Z  \n",
            "1          0  2015-09-05T14:09:58Z  \n",
            "2          0  2019-03-07T11:25:23Z  \n",
            "3          1  2017-02-18T18:44:26Z  \n",
            "4          1  2017-03-04T06:16:43Z  \n",
            "Updated CSV file saved successfully.\n"
          ]
        }
      ]
    },
    {
      "cell_type": "code",
      "source": [
        "import pandas as pd\n",
        "\n",
        "users_df = pd.read_csv('users.csv')\n",
        "\n",
        "users_df['company'] = users_df['company'].str.strip()\n",
        "users_df['company'] = users_df['company'].str.lstrip('@')\n",
        "users_df['company'] = users_df['company'].str.upper()\n",
        "\n",
        "users_df.to_csv('users.csv', index=False)"
      ],
      "metadata": {
        "id": "cuaQL_mZrBU1"
      },
      "execution_count": 36,
      "outputs": []
    },
    {
      "cell_type": "code",
      "source": [
        "#Q1\n",
        "import pandas as pd\n",
        "users_df = pd.read_csv('users.csv')\n",
        "\n",
        "top_users = users_df.sort_values(by='followers', ascending=False).head(5)\n",
        "\n",
        "top_logins = top_users['login'].tolist()\n",
        "result = ','.join(top_logins)\n",
        "\n",
        "print(result)\n"
      ],
      "metadata": {
        "colab": {
          "base_uri": "https://localhost:8080/"
        },
        "id": "X7CkS3Zam87L",
        "outputId": "edaefe1b-7668-4311-a60c-099bce13af27"
      },
      "execution_count": 37,
      "outputs": [
        {
          "output_type": "stream",
          "name": "stdout",
          "text": [
            "iam-veeramalla,in28minutes,stacksimplify,thenaveensaggam,MadhavBahl\n"
          ]
        }
      ]
    },
    {
      "cell_type": "code",
      "source": [
        "#Q2\n",
        "import pandas as pd\n",
        "users_df = pd.read_csv('users.csv')\n",
        "\n",
        "users_df['created_at'] = pd.to_datetime(users_df['created_at'])\n",
        "\n",
        "earliest_users = users_df.sort_values(by='created_at').head(5)\n",
        "\n",
        "earliest_logins = earliest_users['login'].tolist()\n",
        "result = ','.join(earliest_logins)\n",
        "\n",
        "print(result)\n"
      ],
      "metadata": {
        "colab": {
          "base_uri": "https://localhost:8080/"
        },
        "id": "jVT8tVpipe8W",
        "outputId": "571dd494-3ea9-4b89-96b9-7111739afab1"
      },
      "execution_count": 38,
      "outputs": [
        {
          "output_type": "stream",
          "name": "stdout",
          "text": [
            "shabda,sitaramc,bagwanpankaj,srikanthlogic,kulbirsaini\n"
          ]
        }
      ]
    },
    {
      "cell_type": "code",
      "source": [
        "#Q3\n",
        "import pandas as pd\n",
        "\n",
        "repositories_df = pd.read_csv('repositories.csv')\n",
        "repositories_df = repositories_df[repositories_df['license_name'].notna()]\n",
        "\n",
        "license_counts = repositories_df['license_name'].value_counts()\n",
        "\n",
        "top_licenses = license_counts.head(3).index.tolist()\n",
        "\n",
        "result = ', '.join(top_licenses)\n",
        "\n",
        "print(result)\n"
      ],
      "metadata": {
        "colab": {
          "base_uri": "https://localhost:8080/"
        },
        "id": "0v3-8fq7p5qY",
        "outputId": "68ab4561-61cc-4fa4-9f27-ca201f4ec69d"
      },
      "execution_count": 39,
      "outputs": [
        {
          "output_type": "stream",
          "name": "stdout",
          "text": [
            "mit, apache-2.0, other\n"
          ]
        }
      ]
    },
    {
      "cell_type": "code",
      "source": [
        "#Q4\n",
        "import pandas as pd\n",
        "\n",
        "users_df = pd.read_csv('users.csv')\n",
        "\n",
        "company_counts = users_df['company'].value_counts()\n",
        "\n",
        "most_common_company = company_counts.idxmax()\n",
        "most_common_count = company_counts.max()\n",
        "\n",
        "print(f\"The majority of developers work at: {most_common_company} with {most_common_count} developers.\")\n"
      ],
      "metadata": {
        "colab": {
          "base_uri": "https://localhost:8080/"
        },
        "id": "zPFLL9pdrI7h",
        "outputId": "195f15c7-abbc-4734-8ad6-7409cc8b27e2"
      },
      "execution_count": 40,
      "outputs": [
        {
          "output_type": "stream",
          "name": "stdout",
          "text": [
            "The majority of developers work at: MICROSOFT with 17 developers.\n"
          ]
        }
      ]
    },
    {
      "cell_type": "code",
      "source": [
        "#Q5\n",
        "import pandas as pd\n",
        "\n",
        "repositories_df = pd.read_csv('repositories.csv')\n",
        "\n",
        "language_counts = repositories_df['language'].value_counts()\n",
        "\n",
        "most_popular_language = language_counts.idxmax()\n",
        "most_popular_count = language_counts.max()\n",
        "\n",
        "print(f\"The most popular programming language is: {most_popular_language} with {most_popular_count} repositories.\")\n"
      ],
      "metadata": {
        "colab": {
          "base_uri": "https://localhost:8080/"
        },
        "id": "tUbmeG3KrTqI",
        "outputId": "aa29a9c9-42fd-4e76-c757-546969e78663"
      },
      "execution_count": 41,
      "outputs": [
        {
          "output_type": "stream",
          "name": "stdout",
          "text": [
            "The most popular programming language is: JavaScript with 5620 repositories.\n"
          ]
        }
      ]
    },
    {
      "cell_type": "code",
      "source": [
        "#Q6\n",
        "import pandas as pd\n",
        "\n",
        "users_df = pd.read_csv('users.csv')\n",
        "repositories_df = pd.read_csv('repositories.csv')\n",
        "\n",
        "users_df['created_at'] = pd.to_datetime(users_df['created_at'])\n",
        "recent_users = users_df[users_df['created_at'] > '2020-01-01']\n",
        "\n",
        "recent_user_logins = recent_users['login'].tolist()\n",
        "\n",
        "recent_repositories = repositories_df[repositories_df['login'].isin(recent_user_logins)]\n",
        "\n",
        "\n",
        "language_counts = recent_repositories['language'].value_counts()\n",
        "\n",
        "second_most_popular_language = language_counts.nlargest(2).index[1]\n",
        "second_most_popular_count = language_counts.nlargest(2).values[1]\n",
        "\n",
        "print(f\"{second_most_popular_language} \")\n"
      ],
      "metadata": {
        "colab": {
          "base_uri": "https://localhost:8080/"
        },
        "id": "7JUqfwgare6t",
        "outputId": "14d1e5a8-7580-419b-e590-c161668355fc"
      },
      "execution_count": 42,
      "outputs": [
        {
          "output_type": "stream",
          "name": "stdout",
          "text": [
            "HTML \n"
          ]
        }
      ]
    },
    {
      "cell_type": "code",
      "source": [
        "#Q7\n",
        "import pandas as pd\n",
        "\n",
        "repositories_df = pd.read_csv('repositories.csv')\n",
        "average_stars = repositories_df.groupby('language')['stargazers_count'].mean()\n",
        "\n",
        "highest_average_language = average_stars.idxmax()\n",
        "highest_average_value = average_stars.max()\n",
        "\n",
        "print(f\"{highest_average_language}\")\n"
      ],
      "metadata": {
        "colab": {
          "base_uri": "https://localhost:8080/"
        },
        "id": "aowu8SiZrp_P",
        "outputId": "bcac7d2b-9097-47da-f0b1-9e3ee64d5dd9"
      },
      "execution_count": 43,
      "outputs": [
        {
          "output_type": "stream",
          "name": "stdout",
          "text": [
            "Perl\n"
          ]
        }
      ]
    },
    {
      "cell_type": "code",
      "source": [
        "#Q8\n",
        "import pandas as pd\n",
        "\n",
        "users_df = pd.read_csv('users.csv')\n",
        "\n",
        "users_df['leader_strength'] = users_df['followers'] / (1 + users_df['following'])\n",
        "\n",
        "top_leaders = users_df.sort_values(by='leader_strength', ascending=False).head(5)\n",
        "\n",
        "top_logins = top_leaders['login'].tolist()\n",
        "result = ', '.join(top_logins)\n",
        "\n",
        "print(result)\n"
      ],
      "metadata": {
        "colab": {
          "base_uri": "https://localhost:8080/"
        },
        "id": "Oy6f8ZBcr4xS",
        "outputId": "1a712511-b885-4a76-b5f3-de850d13371e"
      },
      "execution_count": 44,
      "outputs": [
        {
          "output_type": "stream",
          "name": "stdout",
          "text": [
            "in28minutes, iam-veeramalla, stacksimplify, ashokitschool, thenaveensaggam\n"
          ]
        }
      ]
    },
    {
      "cell_type": "code",
      "source": [
        "#Q9\n",
        "import pandas as pd\n",
        "\n",
        "users_df = pd.read_csv('users.csv')\n",
        "\n",
        "correlation = users_df['followers'].corr(users_df['public_repos'])\n",
        "\n",
        "print(f\"{correlation:.3f}\")\n"
      ],
      "metadata": {
        "colab": {
          "base_uri": "https://localhost:8080/"
        },
        "id": "b17bFXSwsSsP",
        "outputId": "c25db6f8-b551-4661-f16d-6168b36d1bc6"
      },
      "execution_count": 45,
      "outputs": [
        {
          "output_type": "stream",
          "name": "stdout",
          "text": [
            "0.006\n"
          ]
        }
      ]
    },
    {
      "cell_type": "code",
      "source": [
        "#Q10\n",
        "import pandas as pd\n",
        "import statsmodels.api as sm\n",
        "\n",
        "users_df = pd.read_csv('users.csv')\n",
        "\n",
        "X = users_df['public_repos']\n",
        "Y = users_df['followers']\n",
        "\n",
        "X = sm.add_constant(X)\n",
        "\n",
        "model = sm.OLS(Y, X).fit()\n",
        "\n",
        "summary = model.summary()\n",
        "\n",
        "additional_followers_per_repo = model.params['public_repos']\n",
        "\n",
        "print(f\"{additional_followers_per_repo:.3f}\")\n"
      ],
      "metadata": {
        "colab": {
          "base_uri": "https://localhost:8080/"
        },
        "id": "1kT3YZzPsoBw",
        "outputId": "029d7d6a-7861-46c6-d46c-f6ca11007e89"
      },
      "execution_count": 46,
      "outputs": [
        {
          "output_type": "stream",
          "name": "stdout",
          "text": [
            "0.072\n"
          ]
        }
      ]
    },
    {
      "cell_type": "code",
      "source": [
        "#Q11\n",
        "import pandas as pd\n",
        "\n",
        "repositories_df = pd.read_csv('repositories.csv')\n",
        "\n",
        "correlation = repositories_df['has_projects'].astype(int).corr(repositories_df['has_wiki'].astype(int))\n",
        "\n",
        "print(f\"{correlation:.3f}\")\n"
      ],
      "metadata": {
        "colab": {
          "base_uri": "https://localhost:8080/"
        },
        "id": "2_QxL3kys-_z",
        "outputId": "1d3d5fe0-abbf-4c6f-9941-753c3a57373b"
      },
      "execution_count": 47,
      "outputs": [
        {
          "output_type": "stream",
          "name": "stdout",
          "text": [
            "0.172\n"
          ]
        }
      ]
    },
    {
      "cell_type": "code",
      "source": [
        "#Q12\n",
        "import pandas as pd\n",
        "\n",
        "users_df = pd.read_csv('users.csv')\n",
        "\n",
        "hireable_users = users_df[users_df['hireable'] == True]\n",
        "non_hireable_users = users_df[users_df['hireable'].isna() | (users_df['hireable'] == False)]\n",
        "\n",
        "average_hireable_following = hireable_users['following'].mean()\n",
        "average_non_hireable_following = non_hireable_users['following'].mean()\n",
        "\n",
        "difference = average_hireable_following - average_non_hireable_following\n",
        "\n",
        "print(f'{difference:.3f}')\n"
      ],
      "metadata": {
        "colab": {
          "base_uri": "https://localhost:8080/"
        },
        "id": "v0D_j97ouhM_",
        "outputId": "bcf23911-9699-4b33-d0b3-3bb52c783e2b"
      },
      "execution_count": 48,
      "outputs": [
        {
          "output_type": "stream",
          "name": "stdout",
          "text": [
            "33.422\n"
          ]
        }
      ]
    },
    {
      "cell_type": "code",
      "source": [
        "import pandas as pd\n",
        "import statsmodels.api as sm\n",
        "\n",
        "users_df = pd.read_csv('users.csv')\n",
        "\n",
        "users_with_bios = users_df[users_df['bio'].notna()]\n",
        "\n",
        "users_with_bios['bio_word_count'] = users_with_bios['bio'].apply(lambda x: len(x.split()))\n",
        "\n",
        "X = users_with_bios['bio_word_count']\n",
        "y = users_with_bios['followers']\n",
        "\n",
        "X = sm.add_constant(X)\n",
        "\n",
        "model = sm.OLS(y, X).fit()\n",
        "slope = model.params['bio_word_count']\n",
        "\n",
        "print(f'Regression slope of followers on bio word count: {slope:.3f}')\n"
      ],
      "metadata": {
        "colab": {
          "base_uri": "https://localhost:8080/"
        },
        "id": "t86gGTj6uhLn",
        "outputId": "0bb74443-ea49-4fb3-b863-9d43b421ffa8"
      },
      "execution_count": 49,
      "outputs": [
        {
          "output_type": "stream",
          "name": "stdout",
          "text": [
            "Regression slope of followers on bio word count: 8.400\n"
          ]
        },
        {
          "output_type": "stream",
          "name": "stderr",
          "text": [
            "<ipython-input-49-d1c07a43c104>:8: SettingWithCopyWarning: \n",
            "A value is trying to be set on a copy of a slice from a DataFrame.\n",
            "Try using .loc[row_indexer,col_indexer] = value instead\n",
            "\n",
            "See the caveats in the documentation: https://pandas.pydata.org/pandas-docs/stable/user_guide/indexing.html#returning-a-view-versus-a-copy\n",
            "  users_with_bios['bio_word_count'] = users_with_bios['bio'].apply(lambda x: len(x.split()))\n"
          ]
        }
      ]
    },
    {
      "cell_type": "code",
      "source": [
        "#Q14\n",
        "import pandas as pd\n",
        "\n",
        "repos_df = pd.read_csv('repositories.csv')\n",
        "\n",
        "repos_df['created_at'] = pd.to_datetime(repos_df['created_at'])\n",
        "\n",
        "weekend_repos = repos_df[repos_df['created_at'].dt.dayofweek.isin([5, 6])]\n",
        "\n",
        "top_users = weekend_repos['login'].value_counts().head(5)\n",
        "\n",
        "top_users_logins = ', '.join(top_users.index)\n",
        "\n",
        "print(f'{top_users_logins}')\n"
      ],
      "metadata": {
        "colab": {
          "base_uri": "https://localhost:8080/"
        },
        "id": "69dBDEpH3DXl",
        "outputId": "fd3f6e08-0f8e-494c-9ca7-8ebea9bfe69a"
      },
      "execution_count": 50,
      "outputs": [
        {
          "output_type": "stream",
          "name": "stdout",
          "text": [
            "hemanth22, anjijava16, wahidKhan74, elevenpassin, narasimhavuppala\n"
          ]
        }
      ]
    },
    {
      "cell_type": "code",
      "source": [
        "#Q15\n",
        "import pandas as pd\n",
        "\n",
        "users_df = pd.read_csv('users.csv')\n",
        "\n",
        "total_users = len(users_df)\n",
        "\n",
        "hireable_users = users_df[users_df['hireable'] == True]\n",
        "non_hireable_users = users_df[users_df['hireable'].isna() | (users_df['hireable'] == False)]\n",
        "\n",
        "fraction_hireable_with_email = hireable_users['email'].notna().mean()\n",
        "fraction_non_hireable_with_email = non_hireable_users['email'].notna().mean()\n",
        "\n",
        "difference = fraction_hireable_with_email - fraction_non_hireable_with_email\n",
        "print(f'Difference in fraction of users with email: {difference:.3f}')\n"
      ],
      "metadata": {
        "colab": {
          "base_uri": "https://localhost:8080/"
        },
        "id": "ozqOj5bd3DWQ",
        "outputId": "fdbb311f-5201-4054-a156-925fcb21a4b6"
      },
      "execution_count": 51,
      "outputs": [
        {
          "output_type": "stream",
          "name": "stdout",
          "text": [
            "Difference in fraction of users with email: 0.259\n"
          ]
        }
      ]
    },
    {
      "cell_type": "code",
      "source": [
        "#Q16\n",
        "import pandas as pd\n",
        "\n",
        "users_df = pd.read_csv('users.csv')\n",
        "\n",
        "valid_users = users_df[users_df['name'].notna()]\n",
        "\n",
        "valid_users['surname'] = valid_users['name'].str.strip().str.split().str[-1]\n",
        "\n",
        "surname_counts = valid_users['surname'].value_counts()\n",
        "\n",
        "max_count = surname_counts.max()\n",
        "most_common_surnames = surname_counts[surname_counts == max_count].index.tolist()\n",
        "\n",
        "most_common_surnames.sort()\n",
        "\n",
        "number_of_users = max_count\n",
        "\n",
        "print(','.join(most_common_surnames))\n"
      ],
      "metadata": {
        "colab": {
          "base_uri": "https://localhost:8080/"
        },
        "id": "6MCRKTWM3eGI",
        "outputId": "2d38e585-a8a7-437b-d1f9-fb78bd1306c2"
      },
      "execution_count": 52,
      "outputs": [
        {
          "output_type": "stream",
          "name": "stdout",
          "text": [
            "Kumar\n"
          ]
        },
        {
          "output_type": "stream",
          "name": "stderr",
          "text": [
            "<ipython-input-52-9b15f736d0c5>:8: SettingWithCopyWarning: \n",
            "A value is trying to be set on a copy of a slice from a DataFrame.\n",
            "Try using .loc[row_indexer,col_indexer] = value instead\n",
            "\n",
            "See the caveats in the documentation: https://pandas.pydata.org/pandas-docs/stable/user_guide/indexing.html#returning-a-view-versus-a-copy\n",
            "  valid_users['surname'] = valid_users['name'].str.strip().str.split().str[-1]\n"
          ]
        }
      ]
    },
    {
      "cell_type": "code",
      "source": [],
      "metadata": {
        "id": "ICA9p7MoNx23"
      },
      "execution_count": 52,
      "outputs": []
    },
    {
      "cell_type": "code",
      "source": [],
      "metadata": {
        "id": "TcHTWbzuJVDX"
      },
      "execution_count": 52,
      "outputs": []
    }
  ]
}